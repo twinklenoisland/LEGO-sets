{
 "cells": [
  {
   "cell_type": "code",
   "execution_count": 1,
   "metadata": {},
   "outputs": [],
   "source": [
    "import os\n",
    "import pandas as pd\n",
    "import re\n",
    "import numpy as np"
   ]
  },
  {
   "cell_type": "code",
   "execution_count": 2,
   "metadata": {},
   "outputs": [],
   "source": [
    "# read all the crawled data in the same directory\n",
    "os.chdir(\"D:\\Projects\\LEGO\\LEGO_DATA2\")\n",
    "files = os.listdir()"
   ]
  },
  {
   "cell_type": "code",
   "execution_count": 3,
   "metadata": {},
   "outputs": [],
   "source": [
    "# transfer into dataframes\n",
    "df_lst = [pd.read_csv(file) for file in files]\n",
    "filenames = [file.split(\".\")[0] for file in files]"
   ]
  },
  {
   "cell_type": "code",
   "execution_count": 4,
   "metadata": {},
   "outputs": [],
   "source": [
    "df_dic = dict(zip(filenames,df_lst))"
   ]
  },
  {
   "cell_type": "code",
   "execution_count": 5,
   "metadata": {},
   "outputs": [],
   "source": [
    "def price_us(txt):\n",
    "    \n",
    "    lst = txt.split(\",\")\n",
    "    price = \"missing\"\n",
    "    for item in lst:\n",
    "        if '$' in item:\n",
    "            price = float(item.replace(\"$\",\"\").replace(\"|\",\"\").strip())\n",
    "            break\n",
    "        elif \"€\" in item:\n",
    "            price = round(float(item.replace(\"€\",\"\").replace(\"|\",\"\").strip())*1.13,2)\n",
    "            break\n",
    "    return price"
   ]
  },
  {
   "cell_type": "code",
   "execution_count": 6,
   "metadata": {},
   "outputs": [],
   "source": [
    "# clean datasets with the same structure\n",
    "def clean_data(file):\n",
    "    df = df_dic[file]\n",
    "    \n",
    "    # delete NA in price, set_ID\n",
    "    df = df[pd.notnull(df['price'])]\n",
    "    df = df[pd.notnull(df['set_ID'])]\n",
    "    \n",
    "    # transform price(keep forms contain $ or €) to a new column named price_USD\n",
    "    df['price_USD'] = df['price'].apply(price_us)\n",
    "    \n",
    "    # transform rating into float number\n",
    "    df['rating'] = pd.to_numeric(df['rating'])\n",
    "    \n",
    "    # create a new column called year\n",
    "    df['year'] = int(file)\n",
    "    \n",
    "    # delete \":\" in set_ID\n",
    "    df['set_ID'] = df['set_ID'].str.replace(\":\",\"\")\n",
    "    df['set_ID'] = df['set_ID'].str.strip()\n",
    "    \n",
    "    return df"
   ]
  },
  {
   "cell_type": "code",
   "execution_count": 26,
   "metadata": {},
   "outputs": [
    {
     "name": "stdout",
     "output_type": "stream",
     "text": [
      "(9042, 6)\n"
     ]
    }
   ],
   "source": [
    "# iterate over all dataframes\n",
    "df_clean = [clean_data(file) for file in filenames]\n",
    "data = pd.concat(df_clean)\n",
    "print(data.shape)"
   ]
  },
  {
   "cell_type": "code",
   "execution_count": 27,
   "metadata": {},
   "outputs": [
    {
     "data": {
      "text/html": [
       "<div>\n",
       "<style scoped>\n",
       "    .dataframe tbody tr th:only-of-type {\n",
       "        vertical-align: middle;\n",
       "    }\n",
       "\n",
       "    .dataframe tbody tr th {\n",
       "        vertical-align: top;\n",
       "    }\n",
       "\n",
       "    .dataframe thead th {\n",
       "        text-align: right;\n",
       "    }\n",
       "</style>\n",
       "<table border=\"1\" class=\"dataframe\">\n",
       "  <thead>\n",
       "    <tr style=\"text-align: right;\">\n",
       "      <th></th>\n",
       "      <th>name</th>\n",
       "      <th>price</th>\n",
       "      <th>set_ID</th>\n",
       "      <th>rating</th>\n",
       "      <th>price_USD</th>\n",
       "      <th>year</th>\n",
       "    </tr>\n",
       "  </thead>\n",
       "  <tbody>\n",
       "    <tr>\n",
       "      <th>0</th>\n",
       "      <td>2 X 8 Bricks</td>\n",
       "      <td>9,$0.50 ,5.6c,Box,Retail,Normal</td>\n",
       "      <td>215</td>\n",
       "      <td>4.0</td>\n",
       "      <td>0.5</td>\n",
       "      <td>1961</td>\n",
       "    </tr>\n",
       "    <tr>\n",
       "      <th>2</th>\n",
       "      <td>4 x 4 Corner Bricks</td>\n",
       "      <td>10,$0.50 ,5.0c,Box,Retail,Normal</td>\n",
       "      <td>217</td>\n",
       "      <td>4.0</td>\n",
       "      <td>0.5</td>\n",
       "      <td>1961</td>\n",
       "    </tr>\n",
       "    <tr>\n",
       "      <th>3</th>\n",
       "      <td>2 x 4 Bricks</td>\n",
       "      <td>20,$0.50 ,2.5c,Box,Retail,Normal</td>\n",
       "      <td>218</td>\n",
       "      <td>4.0</td>\n",
       "      <td>0.5</td>\n",
       "      <td>1961</td>\n",
       "    </tr>\n",
       "    <tr>\n",
       "      <th>4</th>\n",
       "      <td>2 X 3 Bricks</td>\n",
       "      <td>24,$0.50 ,2.1c,Box,Retail,Normal</td>\n",
       "      <td>219</td>\n",
       "      <td>4.0</td>\n",
       "      <td>0.5</td>\n",
       "      <td>1961</td>\n",
       "    </tr>\n",
       "    <tr>\n",
       "      <th>5</th>\n",
       "      <td>2 X 2 Bricks</td>\n",
       "      <td>33,$0.50 ,1.5c,Box,Retail,Normal</td>\n",
       "      <td>220</td>\n",
       "      <td>4.0</td>\n",
       "      <td>0.5</td>\n",
       "      <td>1961</td>\n",
       "    </tr>\n",
       "  </tbody>\n",
       "</table>\n",
       "</div>"
      ],
      "text/plain": [
       "                  name                             price set_ID  rating  \\\n",
       "0         2 X 8 Bricks   9,$0.50 ,5.6c,Box,Retail,Normal    215     4.0   \n",
       "2  4 x 4 Corner Bricks  10,$0.50 ,5.0c,Box,Retail,Normal    217     4.0   \n",
       "3         2 x 4 Bricks  20,$0.50 ,2.5c,Box,Retail,Normal    218     4.0   \n",
       "4         2 X 3 Bricks  24,$0.50 ,2.1c,Box,Retail,Normal    219     4.0   \n",
       "5         2 X 2 Bricks  33,$0.50 ,1.5c,Box,Retail,Normal    220     4.0   \n",
       "\n",
       "   price_USD  year  \n",
       "0        0.5  1961  \n",
       "2        0.5  1961  \n",
       "3        0.5  1961  \n",
       "4        0.5  1961  \n",
       "5        0.5  1961  "
      ]
     },
     "execution_count": 27,
     "metadata": {},
     "output_type": "execute_result"
    }
   ],
   "source": [
    "data.head()"
   ]
  },
  {
   "cell_type": "code",
   "execution_count": 28,
   "metadata": {},
   "outputs": [],
   "source": [
    "data = data.reset_index(drop=True)"
   ]
  },
  {
   "cell_type": "code",
   "execution_count": 29,
   "metadata": {},
   "outputs": [
    {
     "data": {
      "text/plain": [
       "'215'"
      ]
     },
     "execution_count": 29,
     "metadata": {},
     "output_type": "execute_result"
    }
   ],
   "source": [
    "data.set_ID[0]"
   ]
  },
  {
   "cell_type": "code",
   "execution_count": 30,
   "metadata": {},
   "outputs": [
    {
     "data": {
      "text/html": [
       "<div>\n",
       "<style scoped>\n",
       "    .dataframe tbody tr th:only-of-type {\n",
       "        vertical-align: middle;\n",
       "    }\n",
       "\n",
       "    .dataframe tbody tr th {\n",
       "        vertical-align: top;\n",
       "    }\n",
       "\n",
       "    .dataframe thead th {\n",
       "        text-align: right;\n",
       "    }\n",
       "</style>\n",
       "<table border=\"1\" class=\"dataframe\">\n",
       "  <thead>\n",
       "    <tr style=\"text-align: right;\">\n",
       "      <th></th>\n",
       "      <th>name</th>\n",
       "      <th>price</th>\n",
       "      <th>set_ID</th>\n",
       "      <th>rating</th>\n",
       "      <th>price_USD</th>\n",
       "      <th>year</th>\n",
       "    </tr>\n",
       "  </thead>\n",
       "  <tbody>\n",
       "    <tr>\n",
       "      <th>0</th>\n",
       "      <td>2 X 8 Bricks</td>\n",
       "      <td>9,$0.50 ,5.6c,Box,Retail,Normal</td>\n",
       "      <td>215</td>\n",
       "      <td>4.0</td>\n",
       "      <td>0.5</td>\n",
       "      <td>1961</td>\n",
       "    </tr>\n",
       "    <tr>\n",
       "      <th>1</th>\n",
       "      <td>4 x 4 Corner Bricks</td>\n",
       "      <td>10,$0.50 ,5.0c,Box,Retail,Normal</td>\n",
       "      <td>217</td>\n",
       "      <td>4.0</td>\n",
       "      <td>0.5</td>\n",
       "      <td>1961</td>\n",
       "    </tr>\n",
       "    <tr>\n",
       "      <th>2</th>\n",
       "      <td>2 x 4 Bricks</td>\n",
       "      <td>20,$0.50 ,2.5c,Box,Retail,Normal</td>\n",
       "      <td>218</td>\n",
       "      <td>4.0</td>\n",
       "      <td>0.5</td>\n",
       "      <td>1961</td>\n",
       "    </tr>\n",
       "    <tr>\n",
       "      <th>3</th>\n",
       "      <td>2 X 3 Bricks</td>\n",
       "      <td>24,$0.50 ,2.1c,Box,Retail,Normal</td>\n",
       "      <td>219</td>\n",
       "      <td>4.0</td>\n",
       "      <td>0.5</td>\n",
       "      <td>1961</td>\n",
       "    </tr>\n",
       "    <tr>\n",
       "      <th>4</th>\n",
       "      <td>2 X 2 Bricks</td>\n",
       "      <td>33,$0.50 ,1.5c,Box,Retail,Normal</td>\n",
       "      <td>220</td>\n",
       "      <td>4.0</td>\n",
       "      <td>0.5</td>\n",
       "      <td>1961</td>\n",
       "    </tr>\n",
       "  </tbody>\n",
       "</table>\n",
       "</div>"
      ],
      "text/plain": [
       "                  name                             price set_ID  rating  \\\n",
       "0         2 X 8 Bricks   9,$0.50 ,5.6c,Box,Retail,Normal    215     4.0   \n",
       "1  4 x 4 Corner Bricks  10,$0.50 ,5.0c,Box,Retail,Normal    217     4.0   \n",
       "2         2 x 4 Bricks  20,$0.50 ,2.5c,Box,Retail,Normal    218     4.0   \n",
       "3         2 X 3 Bricks  24,$0.50 ,2.1c,Box,Retail,Normal    219     4.0   \n",
       "4         2 X 2 Bricks  33,$0.50 ,1.5c,Box,Retail,Normal    220     4.0   \n",
       "\n",
       "   price_USD  year  \n",
       "0        0.5  1961  \n",
       "1        0.5  1961  \n",
       "2        0.5  1961  \n",
       "3        0.5  1961  \n",
       "4        0.5  1961  "
      ]
     },
     "execution_count": 30,
     "metadata": {},
     "output_type": "execute_result"
    }
   ],
   "source": [
    "data.head()"
   ]
  },
  {
   "cell_type": "code",
   "execution_count": 31,
   "metadata": {},
   "outputs": [
    {
     "name": "stdout",
     "output_type": "stream",
     "text": [
      "<class 'pandas.core.frame.DataFrame'>\n",
      "RangeIndex: 9042 entries, 0 to 9041\n",
      "Data columns (total 6 columns):\n",
      "name         9042 non-null object\n",
      "price        9042 non-null object\n",
      "set_ID       9042 non-null object\n",
      "rating       8852 non-null float64\n",
      "price_USD    9042 non-null float64\n",
      "year         9042 non-null int64\n",
      "dtypes: float64(2), int64(1), object(3)\n",
      "memory usage: 423.9+ KB\n"
     ]
    }
   ],
   "source": [
    "data.info()"
   ]
  },
  {
   "cell_type": "code",
   "execution_count": 32,
   "metadata": {},
   "outputs": [
    {
     "data": {
      "text/html": [
       "<div>\n",
       "<style scoped>\n",
       "    .dataframe tbody tr th:only-of-type {\n",
       "        vertical-align: middle;\n",
       "    }\n",
       "\n",
       "    .dataframe tbody tr th {\n",
       "        vertical-align: top;\n",
       "    }\n",
       "\n",
       "    .dataframe thead th {\n",
       "        text-align: right;\n",
       "    }\n",
       "</style>\n",
       "<table border=\"1\" class=\"dataframe\">\n",
       "  <thead>\n",
       "    <tr style=\"text-align: right;\">\n",
       "      <th></th>\n",
       "      <th>name</th>\n",
       "      <th>price</th>\n",
       "      <th>set_ID</th>\n",
       "      <th>rating</th>\n",
       "      <th>price_USD</th>\n",
       "      <th>year</th>\n",
       "    </tr>\n",
       "  </thead>\n",
       "  <tbody>\n",
       "    <tr>\n",
       "      <th>45</th>\n",
       "      <td>Gears</td>\n",
       "      <td>43,$4.95 ,11.5c,Box,Retail,Normal</td>\n",
       "      <td>001</td>\n",
       "      <td>NaN</td>\n",
       "      <td>4.95</td>\n",
       "      <td>1965</td>\n",
       "    </tr>\n",
       "  </tbody>\n",
       "</table>\n",
       "</div>"
      ],
      "text/plain": [
       "     name                              price set_ID  rating  price_USD  year\n",
       "45  Gears  43,$4.95 ,11.5c,Box,Retail,Normal    001     NaN       4.95  1965"
      ]
     },
     "execution_count": 32,
     "metadata": {},
     "output_type": "execute_result"
    }
   ],
   "source": [
    "data[data.name == \"Gears\"]"
   ]
  },
  {
   "cell_type": "code",
   "execution_count": 33,
   "metadata": {},
   "outputs": [],
   "source": [
    "data.set_ID = data.set_ID.apply('\"{}\"'.format)"
   ]
  },
  {
   "cell_type": "code",
   "execution_count": 34,
   "metadata": {},
   "outputs": [
    {
     "data": {
      "text/html": [
       "<div>\n",
       "<style scoped>\n",
       "    .dataframe tbody tr th:only-of-type {\n",
       "        vertical-align: middle;\n",
       "    }\n",
       "\n",
       "    .dataframe tbody tr th {\n",
       "        vertical-align: top;\n",
       "    }\n",
       "\n",
       "    .dataframe thead th {\n",
       "        text-align: right;\n",
       "    }\n",
       "</style>\n",
       "<table border=\"1\" class=\"dataframe\">\n",
       "  <thead>\n",
       "    <tr style=\"text-align: right;\">\n",
       "      <th></th>\n",
       "      <th>name</th>\n",
       "      <th>price</th>\n",
       "      <th>set_ID</th>\n",
       "      <th>rating</th>\n",
       "      <th>price_USD</th>\n",
       "      <th>year</th>\n",
       "    </tr>\n",
       "  </thead>\n",
       "  <tbody>\n",
       "    <tr>\n",
       "      <th>45</th>\n",
       "      <td>Gears</td>\n",
       "      <td>43,$4.95 ,11.5c,Box,Retail,Normal</td>\n",
       "      <td>\"001\"</td>\n",
       "      <td>NaN</td>\n",
       "      <td>4.95</td>\n",
       "      <td>1965</td>\n",
       "    </tr>\n",
       "  </tbody>\n",
       "</table>\n",
       "</div>"
      ],
      "text/plain": [
       "     name                              price set_ID  rating  price_USD  year\n",
       "45  Gears  43,$4.95 ,11.5c,Box,Retail,Normal  \"001\"     NaN       4.95  1965"
      ]
     },
     "execution_count": 34,
     "metadata": {},
     "output_type": "execute_result"
    }
   ],
   "source": [
    "data[data.name == \"Gears\"]"
   ]
  },
  {
   "cell_type": "code",
   "execution_count": 36,
   "metadata": {},
   "outputs": [],
   "source": [
    "data.to_csv(\"D:\\Projects\\LEGO\\Rebrickable\\price.csv\",index=False)"
   ]
  }
 ],
 "metadata": {
  "kernelspec": {
   "display_name": "Python 3",
   "language": "python",
   "name": "python3"
  },
  "language_info": {
   "codemirror_mode": {
    "name": "ipython",
    "version": 3
   },
   "file_extension": ".py",
   "mimetype": "text/x-python",
   "name": "python",
   "nbconvert_exporter": "python",
   "pygments_lexer": "ipython3",
   "version": "3.7.3"
  }
 },
 "nbformat": 4,
 "nbformat_minor": 2
}
