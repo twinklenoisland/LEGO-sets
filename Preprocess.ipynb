{
 "cells": [
  {
   "cell_type": "code",
   "execution_count": 1,
   "metadata": {},
   "outputs": [],
   "source": [
    "import os\n",
    "import pandas as pd"
   ]
  },
  {
   "cell_type": "code",
   "execution_count": 2,
   "metadata": {},
   "outputs": [],
   "source": [
    "os.chdir(\"D:\\Projects\\LEGO\\Scrapy\")"
   ]
  },
  {
   "cell_type": "code",
   "execution_count": 3,
   "metadata": {},
   "outputs": [
    {
     "data": {
      "text/html": [
       "<div>\n",
       "<style scoped>\n",
       "    .dataframe tbody tr th:only-of-type {\n",
       "        vertical-align: middle;\n",
       "    }\n",
       "\n",
       "    .dataframe tbody tr th {\n",
       "        vertical-align: top;\n",
       "    }\n",
       "\n",
       "    .dataframe thead th {\n",
       "        text-align: right;\n",
       "    }\n",
       "</style>\n",
       "<table border=\"1\" class=\"dataframe\">\n",
       "  <thead>\n",
       "    <tr style=\"text-align: right;\">\n",
       "      <th></th>\n",
       "      <th>name</th>\n",
       "      <th>price</th>\n",
       "      <th>set_ID</th>\n",
       "      <th>rating</th>\n",
       "    </tr>\n",
       "  </thead>\n",
       "  <tbody>\n",
       "    <tr>\n",
       "      <th>0</th>\n",
       "      <td>Downtown Diner</td>\n",
       "      <td>$169.99, 149.99€ | ,6.9c, 6.0c,Box,LEGO exclus...</td>\n",
       "      <td>10260:</td>\n",
       "      <td>4.4</td>\n",
       "    </tr>\n",
       "    <tr>\n",
       "      <th>1</th>\n",
       "      <td>Roller Coaster</td>\n",
       "      <td>$379.99, 329.99€ | ,9.2c, 8.0c,Box,LEGO exclus...</td>\n",
       "      <td>10261:</td>\n",
       "      <td>4.4</td>\n",
       "    </tr>\n",
       "    <tr>\n",
       "      <th>2</th>\n",
       "      <td>James Bond Aston Martin DB5</td>\n",
       "      <td>$149.99, 149.99€ | ,11.6c, 11.6c,Box,LEGO excl...</td>\n",
       "      <td>10262:</td>\n",
       "      <td>4.4</td>\n",
       "    </tr>\n",
       "    <tr>\n",
       "      <th>3</th>\n",
       "      <td>Winter Village Fire Station</td>\n",
       "      <td>$99.99, 89.99€ | ,8.6c, 7.7c,Box,Retail - limi...</td>\n",
       "      <td>10263:</td>\n",
       "      <td>4.4</td>\n",
       "    </tr>\n",
       "    <tr>\n",
       "      <th>4</th>\n",
       "      <td>Vestas Wind Turbine</td>\n",
       "      <td>$199.99, 179.99€ | ,24.2c, 21.8c,Box,Retail - ...</td>\n",
       "      <td>10268:</td>\n",
       "      <td>4.4</td>\n",
       "    </tr>\n",
       "  </tbody>\n",
       "</table>\n",
       "</div>"
      ],
      "text/plain": [
       "                          name  \\\n",
       "0               Downtown Diner   \n",
       "1               Roller Coaster   \n",
       "2  James Bond Aston Martin DB5   \n",
       "3  Winter Village Fire Station   \n",
       "4          Vestas Wind Turbine   \n",
       "\n",
       "                                               price   set_ID  rating  \n",
       "0  $169.99, 149.99€ | ,6.9c, 6.0c,Box,LEGO exclus...  10260:      4.4  \n",
       "1  $379.99, 329.99€ | ,9.2c, 8.0c,Box,LEGO exclus...  10261:      4.4  \n",
       "2  $149.99, 149.99€ | ,11.6c, 11.6c,Box,LEGO excl...  10262:      4.4  \n",
       "3  $99.99, 89.99€ | ,8.6c, 7.7c,Box,Retail - limi...  10263:      4.4  \n",
       "4  $199.99, 179.99€ | ,24.2c, 21.8c,Box,Retail - ...  10268:      4.4  "
      ]
     },
     "execution_count": 3,
     "metadata": {},
     "output_type": "execute_result"
    }
   ],
   "source": [
    "df = pd.read_csv(\"2018.csv\")\n",
    "df.head()"
   ]
  },
  {
   "cell_type": "code",
   "execution_count": 4,
   "metadata": {},
   "outputs": [
    {
     "name": "stdout",
     "output_type": "stream",
     "text": [
      "<class 'pandas.core.frame.DataFrame'>\n",
      "RangeIndex: 788 entries, 0 to 787\n",
      "Data columns (total 4 columns):\n",
      "name      788 non-null object\n",
      "price     512 non-null object\n",
      "set_ID    734 non-null object\n",
      "rating    750 non-null float64\n",
      "dtypes: float64(1), object(3)\n",
      "memory usage: 24.7+ KB\n"
     ]
    }
   ],
   "source": [
    "df.info()"
   ]
  },
  {
   "cell_type": "code",
   "execution_count": 5,
   "metadata": {},
   "outputs": [],
   "source": [
    "# replace NaN with missing\n",
    "df.price = df.price.fillna(\"missing\")"
   ]
  },
  {
   "cell_type": "code",
   "execution_count": 6,
   "metadata": {},
   "outputs": [
    {
     "data": {
      "text/html": [
       "<div>\n",
       "<style scoped>\n",
       "    .dataframe tbody tr th:only-of-type {\n",
       "        vertical-align: middle;\n",
       "    }\n",
       "\n",
       "    .dataframe tbody tr th {\n",
       "        vertical-align: top;\n",
       "    }\n",
       "\n",
       "    .dataframe thead th {\n",
       "        text-align: right;\n",
       "    }\n",
       "</style>\n",
       "<table border=\"1\" class=\"dataframe\">\n",
       "  <thead>\n",
       "    <tr style=\"text-align: right;\">\n",
       "      <th></th>\n",
       "      <th>name</th>\n",
       "      <th>price</th>\n",
       "      <th>set_ID</th>\n",
       "      <th>rating</th>\n",
       "    </tr>\n",
       "  </thead>\n",
       "  <tbody>\n",
       "    <tr>\n",
       "      <th>0</th>\n",
       "      <td>Downtown Diner</td>\n",
       "      <td>$169.99, 149.99€ | ,6.9c, 6.0c,Box,LEGO exclus...</td>\n",
       "      <td>10260:</td>\n",
       "      <td>4.4</td>\n",
       "    </tr>\n",
       "    <tr>\n",
       "      <th>1</th>\n",
       "      <td>Roller Coaster</td>\n",
       "      <td>$379.99, 329.99€ | ,9.2c, 8.0c,Box,LEGO exclus...</td>\n",
       "      <td>10261:</td>\n",
       "      <td>4.4</td>\n",
       "    </tr>\n",
       "    <tr>\n",
       "      <th>2</th>\n",
       "      <td>James Bond Aston Martin DB5</td>\n",
       "      <td>$149.99, 149.99€ | ,11.6c, 11.6c,Box,LEGO excl...</td>\n",
       "      <td>10262:</td>\n",
       "      <td>4.4</td>\n",
       "    </tr>\n",
       "    <tr>\n",
       "      <th>3</th>\n",
       "      <td>Winter Village Fire Station</td>\n",
       "      <td>$99.99, 89.99€ | ,8.6c, 7.7c,Box,Retail - limi...</td>\n",
       "      <td>10263:</td>\n",
       "      <td>4.4</td>\n",
       "    </tr>\n",
       "    <tr>\n",
       "      <th>4</th>\n",
       "      <td>Vestas Wind Turbine</td>\n",
       "      <td>$199.99, 179.99€ | ,24.2c, 21.8c,Box,Retail - ...</td>\n",
       "      <td>10268:</td>\n",
       "      <td>4.4</td>\n",
       "    </tr>\n",
       "  </tbody>\n",
       "</table>\n",
       "</div>"
      ],
      "text/plain": [
       "                          name  \\\n",
       "0               Downtown Diner   \n",
       "1               Roller Coaster   \n",
       "2  James Bond Aston Martin DB5   \n",
       "3  Winter Village Fire Station   \n",
       "4          Vestas Wind Turbine   \n",
       "\n",
       "                                               price   set_ID  rating  \n",
       "0  $169.99, 149.99€ | ,6.9c, 6.0c,Box,LEGO exclus...  10260:      4.4  \n",
       "1  $379.99, 329.99€ | ,9.2c, 8.0c,Box,LEGO exclus...  10261:      4.4  \n",
       "2  $149.99, 149.99€ | ,11.6c, 11.6c,Box,LEGO excl...  10262:      4.4  \n",
       "3  $99.99, 89.99€ | ,8.6c, 7.7c,Box,Retail - limi...  10263:      4.4  \n",
       "4  $199.99, 179.99€ | ,24.2c, 21.8c,Box,Retail - ...  10268:      4.4  "
      ]
     },
     "execution_count": 6,
     "metadata": {},
     "output_type": "execute_result"
    }
   ],
   "source": [
    "df.head()"
   ]
  },
  {
   "cell_type": "code",
   "execution_count": 7,
   "metadata": {},
   "outputs": [],
   "source": [
    "def price_us(txt):\n",
    "    \n",
    "    lst = txt.split(\",\")\n",
    "    price = \"missing\"\n",
    "    for item in lst:\n",
    "        if '$' in item:\n",
    "            price = float(item.replace(\"$\",\"\").replace(\"|\",\"\").strip())\n",
    "            break\n",
    "        elif \"€\" in item:\n",
    "            price = round(float(item.replace(\"€\",\"\").replace(\"|\",\"\").strip())*1.13,2)\n",
    "            break\n",
    "    return price"
   ]
  },
  {
   "cell_type": "code",
   "execution_count": 8,
   "metadata": {},
   "outputs": [],
   "source": [
    "df['price_USD'] = df.price.apply(price_us)"
   ]
  },
  {
   "cell_type": "code",
   "execution_count": 9,
   "metadata": {},
   "outputs": [
    {
     "data": {
      "text/html": [
       "<div>\n",
       "<style scoped>\n",
       "    .dataframe tbody tr th:only-of-type {\n",
       "        vertical-align: middle;\n",
       "    }\n",
       "\n",
       "    .dataframe tbody tr th {\n",
       "        vertical-align: top;\n",
       "    }\n",
       "\n",
       "    .dataframe thead th {\n",
       "        text-align: right;\n",
       "    }\n",
       "</style>\n",
       "<table border=\"1\" class=\"dataframe\">\n",
       "  <thead>\n",
       "    <tr style=\"text-align: right;\">\n",
       "      <th></th>\n",
       "      <th>name</th>\n",
       "      <th>price</th>\n",
       "      <th>set_ID</th>\n",
       "      <th>rating</th>\n",
       "      <th>price_USD</th>\n",
       "    </tr>\n",
       "  </thead>\n",
       "  <tbody>\n",
       "    <tr>\n",
       "      <th>0</th>\n",
       "      <td>Downtown Diner</td>\n",
       "      <td>$169.99, 149.99€ | ,6.9c, 6.0c,Box,LEGO exclus...</td>\n",
       "      <td>10260:</td>\n",
       "      <td>4.4</td>\n",
       "      <td>169.99</td>\n",
       "    </tr>\n",
       "    <tr>\n",
       "      <th>1</th>\n",
       "      <td>Roller Coaster</td>\n",
       "      <td>$379.99, 329.99€ | ,9.2c, 8.0c,Box,LEGO exclus...</td>\n",
       "      <td>10261:</td>\n",
       "      <td>4.4</td>\n",
       "      <td>379.99</td>\n",
       "    </tr>\n",
       "    <tr>\n",
       "      <th>2</th>\n",
       "      <td>James Bond Aston Martin DB5</td>\n",
       "      <td>$149.99, 149.99€ | ,11.6c, 11.6c,Box,LEGO excl...</td>\n",
       "      <td>10262:</td>\n",
       "      <td>4.4</td>\n",
       "      <td>149.99</td>\n",
       "    </tr>\n",
       "    <tr>\n",
       "      <th>3</th>\n",
       "      <td>Winter Village Fire Station</td>\n",
       "      <td>$99.99, 89.99€ | ,8.6c, 7.7c,Box,Retail - limi...</td>\n",
       "      <td>10263:</td>\n",
       "      <td>4.4</td>\n",
       "      <td>99.99</td>\n",
       "    </tr>\n",
       "    <tr>\n",
       "      <th>4</th>\n",
       "      <td>Vestas Wind Turbine</td>\n",
       "      <td>$199.99, 179.99€ | ,24.2c, 21.8c,Box,Retail - ...</td>\n",
       "      <td>10268:</td>\n",
       "      <td>4.4</td>\n",
       "      <td>199.99</td>\n",
       "    </tr>\n",
       "  </tbody>\n",
       "</table>\n",
       "</div>"
      ],
      "text/plain": [
       "                          name  \\\n",
       "0               Downtown Diner   \n",
       "1               Roller Coaster   \n",
       "2  James Bond Aston Martin DB5   \n",
       "3  Winter Village Fire Station   \n",
       "4          Vestas Wind Turbine   \n",
       "\n",
       "                                               price   set_ID  rating  \\\n",
       "0  $169.99, 149.99€ | ,6.9c, 6.0c,Box,LEGO exclus...  10260:      4.4   \n",
       "1  $379.99, 329.99€ | ,9.2c, 8.0c,Box,LEGO exclus...  10261:      4.4   \n",
       "2  $149.99, 149.99€ | ,11.6c, 11.6c,Box,LEGO excl...  10262:      4.4   \n",
       "3  $99.99, 89.99€ | ,8.6c, 7.7c,Box,Retail - limi...  10263:      4.4   \n",
       "4  $199.99, 179.99€ | ,24.2c, 21.8c,Box,Retail - ...  10268:      4.4   \n",
       "\n",
       "  price_USD  \n",
       "0    169.99  \n",
       "1    379.99  \n",
       "2    149.99  \n",
       "3     99.99  \n",
       "4    199.99  "
      ]
     },
     "execution_count": 9,
     "metadata": {},
     "output_type": "execute_result"
    }
   ],
   "source": [
    "df.head()"
   ]
  }
 ],
 "metadata": {
  "kernelspec": {
   "display_name": "Python 3",
   "language": "python",
   "name": "python3"
  },
  "language_info": {
   "codemirror_mode": {
    "name": "ipython",
    "version": 3
   },
   "file_extension": ".py",
   "mimetype": "text/x-python",
   "name": "python",
   "nbconvert_exporter": "python",
   "pygments_lexer": "ipython3",
   "version": "3.7.3"
  }
 },
 "nbformat": 4,
 "nbformat_minor": 2
}
