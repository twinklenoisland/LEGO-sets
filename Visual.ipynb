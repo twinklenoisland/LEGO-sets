{
 "cells": [
  {
   "cell_type": "code",
   "execution_count": 1,
   "metadata": {},
   "outputs": [],
   "source": [
    "import os\n",
    "import pandas as pd\n",
    "import seaborn as sns"
   ]
  },
  {
   "cell_type": "code",
   "execution_count": 2,
   "metadata": {},
   "outputs": [
    {
     "data": {
      "text/html": [
       "<div>\n",
       "<style scoped>\n",
       "    .dataframe tbody tr th:only-of-type {\n",
       "        vertical-align: middle;\n",
       "    }\n",
       "\n",
       "    .dataframe tbody tr th {\n",
       "        vertical-align: top;\n",
       "    }\n",
       "\n",
       "    .dataframe thead th {\n",
       "        text-align: right;\n",
       "    }\n",
       "</style>\n",
       "<table border=\"1\" class=\"dataframe\">\n",
       "  <thead>\n",
       "    <tr style=\"text-align: right;\">\n",
       "      <th></th>\n",
       "      <th>set_num</th>\n",
       "      <th>set_name</th>\n",
       "      <th>year</th>\n",
       "      <th>theme_id</th>\n",
       "      <th>num_parts</th>\n",
       "      <th>rating</th>\n",
       "      <th>price_adjust</th>\n",
       "      <th>pcs_num</th>\n",
       "      <th>price_per_pcs</th>\n",
       "      <th>theme_name</th>\n",
       "      <th>parent_theme</th>\n",
       "    </tr>\n",
       "  </thead>\n",
       "  <tbody>\n",
       "    <tr>\n",
       "      <th>0</th>\n",
       "      <td>\"001\"</td>\n",
       "      <td>Gears</td>\n",
       "      <td>1965</td>\n",
       "      <td>1</td>\n",
       "      <td>43</td>\n",
       "      <td>NaN</td>\n",
       "      <td>39.88</td>\n",
       "      <td>43.0</td>\n",
       "      <td>0.93</td>\n",
       "      <td>Technic</td>\n",
       "      <td>Technic</td>\n",
       "    </tr>\n",
       "    <tr>\n",
       "      <th>1</th>\n",
       "      <td>\"0011\"</td>\n",
       "      <td>Town Mini-Figures</td>\n",
       "      <td>1978</td>\n",
       "      <td>84</td>\n",
       "      <td>12</td>\n",
       "      <td>NaN</td>\n",
       "      <td>NaN</td>\n",
       "      <td>NaN</td>\n",
       "      <td>NaN</td>\n",
       "      <td>Supplemental</td>\n",
       "      <td>Classic Town</td>\n",
       "    </tr>\n",
       "    <tr>\n",
       "      <th>2</th>\n",
       "      <td>\"0011\"</td>\n",
       "      <td>Castle 2 for 1 Bonus Offer</td>\n",
       "      <td>1987</td>\n",
       "      <td>199</td>\n",
       "      <td>2</td>\n",
       "      <td>5.0</td>\n",
       "      <td>3.35</td>\n",
       "      <td>151.0</td>\n",
       "      <td>0.02</td>\n",
       "      <td>Lion Knights</td>\n",
       "      <td>Castle</td>\n",
       "    </tr>\n",
       "    <tr>\n",
       "      <th>3</th>\n",
       "      <td>\"0012\"</td>\n",
       "      <td>Space Mini-Figures</td>\n",
       "      <td>1979</td>\n",
       "      <td>143</td>\n",
       "      <td>12</td>\n",
       "      <td>NaN</td>\n",
       "      <td>NaN</td>\n",
       "      <td>NaN</td>\n",
       "      <td>NaN</td>\n",
       "      <td>Supplemental</td>\n",
       "      <td>Space</td>\n",
       "    </tr>\n",
       "    <tr>\n",
       "      <th>4</th>\n",
       "      <td>\"0013\"</td>\n",
       "      <td>Space Mini-Figures</td>\n",
       "      <td>1979</td>\n",
       "      <td>143</td>\n",
       "      <td>12</td>\n",
       "      <td>NaN</td>\n",
       "      <td>NaN</td>\n",
       "      <td>NaN</td>\n",
       "      <td>NaN</td>\n",
       "      <td>Supplemental</td>\n",
       "      <td>Space</td>\n",
       "    </tr>\n",
       "  </tbody>\n",
       "</table>\n",
       "</div>"
      ],
      "text/plain": [
       "  set_num                    set_name  year  theme_id  num_parts  rating  \\\n",
       "0   \"001\"                       Gears  1965         1         43     NaN   \n",
       "1  \"0011\"           Town Mini-Figures  1978        84         12     NaN   \n",
       "2  \"0011\"  Castle 2 for 1 Bonus Offer  1987       199          2     5.0   \n",
       "3  \"0012\"          Space Mini-Figures  1979       143         12     NaN   \n",
       "4  \"0013\"          Space Mini-Figures  1979       143         12     NaN   \n",
       "\n",
       "   price_adjust  pcs_num  price_per_pcs    theme_name  parent_theme  \n",
       "0         39.88     43.0           0.93       Technic       Technic  \n",
       "1           NaN      NaN            NaN  Supplemental  Classic Town  \n",
       "2          3.35    151.0           0.02  Lion Knights        Castle  \n",
       "3           NaN      NaN            NaN  Supplemental         Space  \n",
       "4           NaN      NaN            NaN  Supplemental         Space  "
      ]
     },
     "execution_count": 2,
     "metadata": {},
     "output_type": "execute_result"
    }
   ],
   "source": [
    "os.chdir(\"D:\\Projects\\LEGO\\Rebrickable\")\n",
    "sets = pd.read_csv(\"sets_all.csv\")\n",
    "sets.head()"
   ]
  },
  {
   "cell_type": "markdown",
   "metadata": {},
   "source": [
    "### yearly release"
   ]
  },
  {
   "cell_type": "code",
   "execution_count": 3,
   "metadata": {},
   "outputs": [],
   "source": [
    "release_set = sets.groupby([\"year\",\"set_num\"],as_index=False).agg({\"set_name\":\"count\"})\n",
    "release_set[\"set_re\"] = 1"
   ]
  },
  {
   "cell_type": "code",
   "execution_count": 4,
   "metadata": {},
   "outputs": [],
   "source": [
    "re_set = release_set.groupby(\"year\",as_index=False).agg({\"set_num\":\"count\"})"
   ]
  },
  {
   "cell_type": "code",
   "execution_count": 5,
   "metadata": {},
   "outputs": [
    {
     "data": {
      "text/html": [
       "<div>\n",
       "<style scoped>\n",
       "    .dataframe tbody tr th:only-of-type {\n",
       "        vertical-align: middle;\n",
       "    }\n",
       "\n",
       "    .dataframe tbody tr th {\n",
       "        vertical-align: top;\n",
       "    }\n",
       "\n",
       "    .dataframe thead th {\n",
       "        text-align: right;\n",
       "    }\n",
       "</style>\n",
       "<table border=\"1\" class=\"dataframe\">\n",
       "  <thead>\n",
       "    <tr style=\"text-align: right;\">\n",
       "      <th></th>\n",
       "      <th>year</th>\n",
       "      <th>set_num</th>\n",
       "    </tr>\n",
       "  </thead>\n",
       "  <tbody>\n",
       "    <tr>\n",
       "      <th>0</th>\n",
       "      <td>1949</td>\n",
       "      <td>5</td>\n",
       "    </tr>\n",
       "    <tr>\n",
       "      <th>1</th>\n",
       "      <td>1950</td>\n",
       "      <td>6</td>\n",
       "    </tr>\n",
       "    <tr>\n",
       "      <th>2</th>\n",
       "      <td>1953</td>\n",
       "      <td>4</td>\n",
       "    </tr>\n",
       "    <tr>\n",
       "      <th>3</th>\n",
       "      <td>1954</td>\n",
       "      <td>14</td>\n",
       "    </tr>\n",
       "    <tr>\n",
       "      <th>4</th>\n",
       "      <td>1955</td>\n",
       "      <td>28</td>\n",
       "    </tr>\n",
       "  </tbody>\n",
       "</table>\n",
       "</div>"
      ],
      "text/plain": [
       "   year  set_num\n",
       "0  1949        5\n",
       "1  1950        6\n",
       "2  1953        4\n",
       "3  1954       14\n",
       "4  1955       28"
      ]
     },
     "execution_count": 5,
     "metadata": {},
     "output_type": "execute_result"
    }
   ],
   "source": [
    "re_set.head()"
   ]
  },
  {
   "cell_type": "code",
   "execution_count": 6,
   "metadata": {},
   "outputs": [],
   "source": [
    "release_theme = sets.groupby([\"year\",\"theme_name\"],as_index=False).agg({\"set_name\":\"count\"})\n",
    "release_theme[\"theme_re\"] = 1"
   ]
  },
  {
   "cell_type": "code",
   "execution_count": 7,
   "metadata": {},
   "outputs": [],
   "source": [
    "re_theme = release_theme.groupby(\"year\",as_index=False).agg({\"theme_name\":\"count\"})"
   ]
  },
  {
   "cell_type": "code",
   "execution_count": 8,
   "metadata": {},
   "outputs": [
    {
     "data": {
      "text/html": [
       "<div>\n",
       "<style scoped>\n",
       "    .dataframe tbody tr th:only-of-type {\n",
       "        vertical-align: middle;\n",
       "    }\n",
       "\n",
       "    .dataframe tbody tr th {\n",
       "        vertical-align: top;\n",
       "    }\n",
       "\n",
       "    .dataframe thead th {\n",
       "        text-align: right;\n",
       "    }\n",
       "</style>\n",
       "<table border=\"1\" class=\"dataframe\">\n",
       "  <thead>\n",
       "    <tr style=\"text-align: right;\">\n",
       "      <th></th>\n",
       "      <th>year</th>\n",
       "      <th>theme_name</th>\n",
       "    </tr>\n",
       "  </thead>\n",
       "  <tbody>\n",
       "    <tr>\n",
       "      <th>0</th>\n",
       "      <td>1949</td>\n",
       "      <td>2</td>\n",
       "    </tr>\n",
       "    <tr>\n",
       "      <th>1</th>\n",
       "      <td>1950</td>\n",
       "      <td>1</td>\n",
       "    </tr>\n",
       "    <tr>\n",
       "      <th>2</th>\n",
       "      <td>1953</td>\n",
       "      <td>2</td>\n",
       "    </tr>\n",
       "    <tr>\n",
       "      <th>3</th>\n",
       "      <td>1954</td>\n",
       "      <td>2</td>\n",
       "    </tr>\n",
       "    <tr>\n",
       "      <th>4</th>\n",
       "      <td>1955</td>\n",
       "      <td>4</td>\n",
       "    </tr>\n",
       "  </tbody>\n",
       "</table>\n",
       "</div>"
      ],
      "text/plain": [
       "   year  theme_name\n",
       "0  1949           2\n",
       "1  1950           1\n",
       "2  1953           2\n",
       "3  1954           2\n",
       "4  1955           4"
      ]
     },
     "execution_count": 8,
     "metadata": {},
     "output_type": "execute_result"
    }
   ],
   "source": [
    "re_theme.head()"
   ]
  },
  {
   "cell_type": "code",
   "execution_count": 9,
   "metadata": {},
   "outputs": [],
   "source": [
    "import plotly.plotly as py\n",
    "from plotly.graph_objs import *"
   ]
  },
  {
   "cell_type": "code",
   "execution_count": 10,
   "metadata": {},
   "outputs": [],
   "source": [
    "import plotly\n",
    "# get username and key from website\n",
    "plotly.tools.set_credentials_file(username='twinklenoisland',api_key='Oa8xw34UA63TxUc98XyZ')"
   ]
  },
  {
   "cell_type": "code",
   "execution_count": 11,
   "metadata": {},
   "outputs": [],
   "source": [
    "trace0 = Scatter(x=re_set[\"year\"],y=re_set[\"set_num\"],\n",
    "                mode = \"lines\",\n",
    "                name = \"released sets\",\n",
    "                marker = dict(\n",
    "                color = '#f2cd37'))\n",
    "trace1 = Scatter(x=re_theme[\"year\"],y=re_theme[\"theme_name\"],\n",
    "                mode = \"lines\",\n",
    "                name = \"released themes\",\n",
    "                marker = dict(\n",
    "                color = '#c91a09'))\n",
    "\n",
    "# edit layout\n",
    "layout = dict(title = 'Sets and themes released every year',\n",
    "              xaxis = dict(title = 'Year'),\n",
    "              yaxis = dict(title = 'Released number'),\n",
    "              font = dict(family = 'Arial'))"
   ]
  },
  {
   "cell_type": "code",
   "execution_count": 12,
   "metadata": {},
   "outputs": [
    {
     "name": "stderr",
     "output_type": "stream",
     "text": [
      "D:\\conda\\lib\\site-packages\\IPython\\core\\display.py:689: UserWarning:\n",
      "\n",
      "Consider using IPython.display.IFrame instead\n",
      "\n"
     ]
    },
    {
     "data": {
      "text/html": [
       "<iframe id=\"igraph\" scrolling=\"no\" style=\"border:none;\" seamless=\"seamless\" src=\"https://plot.ly/~twinklenoisland/4.embed\" height=\"525px\" width=\"100%\"></iframe>"
      ],
      "text/plain": [
       "<chart_studio.tools.PlotlyDisplay object>"
      ]
     },
     "execution_count": 12,
     "metadata": {},
     "output_type": "execute_result"
    }
   ],
   "source": [
    "# compile traces\n",
    "data = [trace0,trace1]\n",
    "fig = dict(data=data, layout=layout)\n",
    "py.iplot(fig,filename='scatter plots')"
   ]
  },
  {
   "cell_type": "markdown",
   "metadata": {},
   "source": [
    "### yearly parts count in sets"
   ]
  },
  {
   "cell_type": "code",
   "execution_count": 13,
   "metadata": {},
   "outputs": [],
   "source": [
    "part_set = sets.groupby([\"year\",\"set_num\"],as_index=False).agg({\"num_parts\":\"sum\"})"
   ]
  },
  {
   "cell_type": "code",
   "execution_count": 14,
   "metadata": {},
   "outputs": [
    {
     "data": {
      "text/html": [
       "<div>\n",
       "<style scoped>\n",
       "    .dataframe tbody tr th:only-of-type {\n",
       "        vertical-align: middle;\n",
       "    }\n",
       "\n",
       "    .dataframe tbody tr th {\n",
       "        vertical-align: top;\n",
       "    }\n",
       "\n",
       "    .dataframe thead th {\n",
       "        text-align: right;\n",
       "    }\n",
       "</style>\n",
       "<table border=\"1\" class=\"dataframe\">\n",
       "  <thead>\n",
       "    <tr style=\"text-align: right;\">\n",
       "      <th></th>\n",
       "      <th>year</th>\n",
       "      <th>set_num</th>\n",
       "      <th>num_parts</th>\n",
       "    </tr>\n",
       "  </thead>\n",
       "  <tbody>\n",
       "    <tr>\n",
       "      <th>0</th>\n",
       "      <td>1949</td>\n",
       "      <td>\"700.1\"</td>\n",
       "      <td>142</td>\n",
       "    </tr>\n",
       "    <tr>\n",
       "      <th>1</th>\n",
       "      <td>1949</td>\n",
       "      <td>\"700.2\"</td>\n",
       "      <td>178</td>\n",
       "    </tr>\n",
       "    <tr>\n",
       "      <th>2</th>\n",
       "      <td>1949</td>\n",
       "      <td>\"700.3\"</td>\n",
       "      <td>142</td>\n",
       "    </tr>\n",
       "    <tr>\n",
       "      <th>3</th>\n",
       "      <td>1949</td>\n",
       "      <td>\"700.A\"</td>\n",
       "      <td>24</td>\n",
       "    </tr>\n",
       "    <tr>\n",
       "      <th>4</th>\n",
       "      <td>1949</td>\n",
       "      <td>\"700.B\"</td>\n",
       "      <td>12</td>\n",
       "    </tr>\n",
       "  </tbody>\n",
       "</table>\n",
       "</div>"
      ],
      "text/plain": [
       "   year  set_num  num_parts\n",
       "0  1949  \"700.1\"        142\n",
       "1  1949  \"700.2\"        178\n",
       "2  1949  \"700.3\"        142\n",
       "3  1949  \"700.A\"         24\n",
       "4  1949  \"700.B\"         12"
      ]
     },
     "execution_count": 14,
     "metadata": {},
     "output_type": "execute_result"
    }
   ],
   "source": [
    "part_set.head()"
   ]
  },
  {
   "cell_type": "code",
   "execution_count": 15,
   "metadata": {},
   "outputs": [],
   "source": [
    "part_set_mean = part_set.groupby(\"year\",as_index=False).agg({\"num_parts\":\"mean\"})"
   ]
  },
  {
   "cell_type": "code",
   "execution_count": 16,
   "metadata": {},
   "outputs": [
    {
     "data": {
      "text/html": [
       "<div>\n",
       "<style scoped>\n",
       "    .dataframe tbody tr th:only-of-type {\n",
       "        vertical-align: middle;\n",
       "    }\n",
       "\n",
       "    .dataframe tbody tr th {\n",
       "        vertical-align: top;\n",
       "    }\n",
       "\n",
       "    .dataframe thead th {\n",
       "        text-align: right;\n",
       "    }\n",
       "</style>\n",
       "<table border=\"1\" class=\"dataframe\">\n",
       "  <thead>\n",
       "    <tr style=\"text-align: right;\">\n",
       "      <th></th>\n",
       "      <th>year</th>\n",
       "      <th>num_parts</th>\n",
       "    </tr>\n",
       "  </thead>\n",
       "  <tbody>\n",
       "    <tr>\n",
       "      <th>0</th>\n",
       "      <td>1949</td>\n",
       "      <td>99.600000</td>\n",
       "    </tr>\n",
       "    <tr>\n",
       "      <th>1</th>\n",
       "      <td>1950</td>\n",
       "      <td>1.000000</td>\n",
       "    </tr>\n",
       "    <tr>\n",
       "      <th>2</th>\n",
       "      <td>1953</td>\n",
       "      <td>13.500000</td>\n",
       "    </tr>\n",
       "    <tr>\n",
       "      <th>3</th>\n",
       "      <td>1954</td>\n",
       "      <td>12.357143</td>\n",
       "    </tr>\n",
       "    <tr>\n",
       "      <th>4</th>\n",
       "      <td>1955</td>\n",
       "      <td>36.607143</td>\n",
       "    </tr>\n",
       "  </tbody>\n",
       "</table>\n",
       "</div>"
      ],
      "text/plain": [
       "   year  num_parts\n",
       "0  1949  99.600000\n",
       "1  1950   1.000000\n",
       "2  1953  13.500000\n",
       "3  1954  12.357143\n",
       "4  1955  36.607143"
      ]
     },
     "execution_count": 16,
     "metadata": {},
     "output_type": "execute_result"
    }
   ],
   "source": [
    "part_set_mean.head()"
   ]
  },
  {
   "cell_type": "code",
   "execution_count": 17,
   "metadata": {},
   "outputs": [
    {
     "data": {
      "text/html": [
       "<div>\n",
       "<style scoped>\n",
       "    .dataframe tbody tr th:only-of-type {\n",
       "        vertical-align: middle;\n",
       "    }\n",
       "\n",
       "    .dataframe tbody tr th {\n",
       "        vertical-align: top;\n",
       "    }\n",
       "\n",
       "    .dataframe thead th {\n",
       "        text-align: right;\n",
       "    }\n",
       "</style>\n",
       "<table border=\"1\" class=\"dataframe\">\n",
       "  <thead>\n",
       "    <tr style=\"text-align: right;\">\n",
       "      <th></th>\n",
       "      <th>year</th>\n",
       "      <th>num_parts</th>\n",
       "    </tr>\n",
       "  </thead>\n",
       "  <tbody>\n",
       "    <tr>\n",
       "      <th>0</th>\n",
       "      <td>1949</td>\n",
       "      <td>142.0</td>\n",
       "    </tr>\n",
       "    <tr>\n",
       "      <th>1</th>\n",
       "      <td>1950</td>\n",
       "      <td>1.0</td>\n",
       "    </tr>\n",
       "    <tr>\n",
       "      <th>2</th>\n",
       "      <td>1953</td>\n",
       "      <td>3.0</td>\n",
       "    </tr>\n",
       "    <tr>\n",
       "      <th>3</th>\n",
       "      <td>1954</td>\n",
       "      <td>5.0</td>\n",
       "    </tr>\n",
       "    <tr>\n",
       "      <th>4</th>\n",
       "      <td>1955</td>\n",
       "      <td>20.0</td>\n",
       "    </tr>\n",
       "  </tbody>\n",
       "</table>\n",
       "</div>"
      ],
      "text/plain": [
       "   year  num_parts\n",
       "0  1949      142.0\n",
       "1  1950        1.0\n",
       "2  1953        3.0\n",
       "3  1954        5.0\n",
       "4  1955       20.0"
      ]
     },
     "execution_count": 17,
     "metadata": {},
     "output_type": "execute_result"
    }
   ],
   "source": [
    "part_set_median = part_set.groupby(\"year\",as_index=False).agg({\"num_parts\":\"median\"})\n",
    "part_set_median.head()"
   ]
  },
  {
   "cell_type": "code",
   "execution_count": 18,
   "metadata": {},
   "outputs": [
    {
     "name": "stderr",
     "output_type": "stream",
     "text": [
      "D:\\conda\\lib\\site-packages\\IPython\\core\\display.py:689: UserWarning:\n",
      "\n",
      "Consider using IPython.display.IFrame instead\n",
      "\n"
     ]
    },
    {
     "data": {
      "text/html": [
       "<iframe id=\"igraph\" scrolling=\"no\" style=\"border:none;\" seamless=\"seamless\" src=\"https://plot.ly/~twinklenoisland/14.embed\" height=\"525px\" width=\"100%\"></iframe>"
      ],
      "text/plain": [
       "<chart_studio.tools.PlotlyDisplay object>"
      ]
     },
     "execution_count": 18,
     "metadata": {},
     "output_type": "execute_result"
    }
   ],
   "source": [
    "trace0 = Bar(x=re_set[\"year\"],y=re_set[\"set_num\"],\n",
    "                name = \"released sets\",\n",
    "                marker = dict(\n",
    "                color = '#f2cd37'))\n",
    "trace1 = Scatter(x=part_set_mean[\"year\"],y=part_set_mean[\"num_parts\"],\n",
    "                mode = \"lines\",\n",
    "                name = \"average parts in sets released\",\n",
    "                line = dict(\n",
    "                color = '#6c6e68',\n",
    "                dash = 'dot'))\n",
    "trace2 = Scatter(x=part_set_median[\"year\"],y=part_set_median[\"num_parts\"],\n",
    "                mode = \"lines\",\n",
    "                name = \"median parts in sets released\",\n",
    "                line = dict(\n",
    "                color = '#a0a5a9',\n",
    "                dash = 'dot'))\n",
    "\n",
    "# edit layout\n",
    "layout = dict(title = 'Sets and parts released every year',\n",
    "              xaxis = dict(title = 'Year'),\n",
    "              yaxis = dict(title = 'Released number'),\n",
    "              font = dict(family = 'Arial'))\n",
    "\n",
    "# compile traces\n",
    "data = [trace0,trace1,trace2]\n",
    "fig = dict(data=data, layout=layout)\n",
    "py.iplot(fig,filename='scatter plots2')"
   ]
  },
  {
   "cell_type": "markdown",
   "metadata": {},
   "source": [
    "### Quantile plot"
   ]
  },
  {
   "cell_type": "code",
   "execution_count": 19,
   "metadata": {},
   "outputs": [
    {
     "data": {
      "text/html": [
       "<div>\n",
       "<style scoped>\n",
       "    .dataframe tbody tr th:only-of-type {\n",
       "        vertical-align: middle;\n",
       "    }\n",
       "\n",
       "    .dataframe tbody tr th {\n",
       "        vertical-align: top;\n",
       "    }\n",
       "\n",
       "    .dataframe thead th {\n",
       "        text-align: right;\n",
       "    }\n",
       "</style>\n",
       "<table border=\"1\" class=\"dataframe\">\n",
       "  <thead>\n",
       "    <tr style=\"text-align: right;\">\n",
       "      <th></th>\n",
       "      <th>year</th>\n",
       "      <th>set_num</th>\n",
       "      <th>num_parts</th>\n",
       "      <th>decade</th>\n",
       "    </tr>\n",
       "  </thead>\n",
       "  <tbody>\n",
       "    <tr>\n",
       "      <th>0</th>\n",
       "      <td>1949</td>\n",
       "      <td>\"700.1\"</td>\n",
       "      <td>142</td>\n",
       "      <td>1940s</td>\n",
       "    </tr>\n",
       "    <tr>\n",
       "      <th>1</th>\n",
       "      <td>1949</td>\n",
       "      <td>\"700.2\"</td>\n",
       "      <td>178</td>\n",
       "      <td>1940s</td>\n",
       "    </tr>\n",
       "    <tr>\n",
       "      <th>2</th>\n",
       "      <td>1949</td>\n",
       "      <td>\"700.3\"</td>\n",
       "      <td>142</td>\n",
       "      <td>1940s</td>\n",
       "    </tr>\n",
       "    <tr>\n",
       "      <th>3</th>\n",
       "      <td>1949</td>\n",
       "      <td>\"700.A\"</td>\n",
       "      <td>24</td>\n",
       "      <td>1940s</td>\n",
       "    </tr>\n",
       "    <tr>\n",
       "      <th>4</th>\n",
       "      <td>1949</td>\n",
       "      <td>\"700.B\"</td>\n",
       "      <td>12</td>\n",
       "      <td>1940s</td>\n",
       "    </tr>\n",
       "  </tbody>\n",
       "</table>\n",
       "</div>"
      ],
      "text/plain": [
       "   year  set_num  num_parts decade\n",
       "0  1949  \"700.1\"        142  1940s\n",
       "1  1949  \"700.2\"        178  1940s\n",
       "2  1949  \"700.3\"        142  1940s\n",
       "3  1949  \"700.A\"         24  1940s\n",
       "4  1949  \"700.B\"         12  1940s"
      ]
     },
     "execution_count": 19,
     "metadata": {},
     "output_type": "execute_result"
    }
   ],
   "source": [
    "# transfer to decade\n",
    "def decade(year):\n",
    "    n = year//10\n",
    "    decade = str(n)+\"0s\"\n",
    "    return decade\n",
    "\n",
    "part_set[\"decade\"] = part_set[\"year\"].apply(decade)\n",
    "part_set.head()"
   ]
  },
  {
   "cell_type": "code",
   "execution_count": 20,
   "metadata": {},
   "outputs": [
    {
     "data": {
      "text/html": [
       "<div>\n",
       "<style scoped>\n",
       "    .dataframe tbody tr th:only-of-type {\n",
       "        vertical-align: middle;\n",
       "    }\n",
       "\n",
       "    .dataframe tbody tr th {\n",
       "        vertical-align: top;\n",
       "    }\n",
       "\n",
       "    .dataframe thead th {\n",
       "        text-align: right;\n",
       "    }\n",
       "</style>\n",
       "<table border=\"1\" class=\"dataframe\">\n",
       "  <thead>\n",
       "    <tr style=\"text-align: right;\">\n",
       "      <th></th>\n",
       "      <th>year</th>\n",
       "      <th>set_num</th>\n",
       "      <th>num_parts</th>\n",
       "      <th>decade</th>\n",
       "    </tr>\n",
       "  </thead>\n",
       "  <tbody>\n",
       "    <tr>\n",
       "      <th>418</th>\n",
       "      <td>1970</td>\n",
       "      <td>\"078\"</td>\n",
       "      <td>0</td>\n",
       "      <td>1970s</td>\n",
       "    </tr>\n",
       "    <tr>\n",
       "      <th>419</th>\n",
       "      <td>1970</td>\n",
       "      <td>\"1\"</td>\n",
       "      <td>67</td>\n",
       "      <td>1970s</td>\n",
       "    </tr>\n",
       "    <tr>\n",
       "      <th>420</th>\n",
       "      <td>1970</td>\n",
       "      <td>\"102A\"</td>\n",
       "      <td>120</td>\n",
       "      <td>1970s</td>\n",
       "    </tr>\n",
       "    <tr>\n",
       "      <th>421</th>\n",
       "      <td>1970</td>\n",
       "      <td>\"104\"</td>\n",
       "      <td>1</td>\n",
       "      <td>1970s</td>\n",
       "    </tr>\n",
       "    <tr>\n",
       "      <th>422</th>\n",
       "      <td>1970</td>\n",
       "      <td>\"126\"</td>\n",
       "      <td>60</td>\n",
       "      <td>1970s</td>\n",
       "    </tr>\n",
       "  </tbody>\n",
       "</table>\n",
       "</div>"
      ],
      "text/plain": [
       "     year set_num  num_parts decade\n",
       "418  1970   \"078\"          0  1970s\n",
       "419  1970     \"1\"         67  1970s\n",
       "420  1970  \"102A\"        120  1970s\n",
       "421  1970   \"104\"          1  1970s\n",
       "422  1970   \"126\"         60  1970s"
      ]
     },
     "execution_count": 20,
     "metadata": {},
     "output_type": "execute_result"
    }
   ],
   "source": [
    "df = part_set[part_set.year>=1970]\n",
    "df.head()"
   ]
  },
  {
   "cell_type": "code",
   "execution_count": 21,
   "metadata": {},
   "outputs": [],
   "source": [
    "df0 = df[[\"year\",\"num_parts\"]].groupby(\"year\").quantile(.25).reset_index()\n",
    "df1 = df[[\"year\",\"num_parts\"]].groupby(\"year\").quantile(.5).reset_index()\n",
    "df2 = df[[\"year\",\"num_parts\"]].groupby(\"year\").quantile(.75).reset_index()\n",
    "df3 = df[[\"year\",\"num_parts\"]].groupby(\"year\").quantile(.95).reset_index()"
   ]
  },
  {
   "cell_type": "code",
   "execution_count": 22,
   "metadata": {},
   "outputs": [
    {
     "data": {
      "text/html": [
       "<div>\n",
       "<style scoped>\n",
       "    .dataframe tbody tr th:only-of-type {\n",
       "        vertical-align: middle;\n",
       "    }\n",
       "\n",
       "    .dataframe tbody tr th {\n",
       "        vertical-align: top;\n",
       "    }\n",
       "\n",
       "    .dataframe thead th {\n",
       "        text-align: right;\n",
       "    }\n",
       "</style>\n",
       "<table border=\"1\" class=\"dataframe\">\n",
       "  <thead>\n",
       "    <tr style=\"text-align: right;\">\n",
       "      <th>0.25</th>\n",
       "      <th>year</th>\n",
       "      <th>num_parts</th>\n",
       "    </tr>\n",
       "  </thead>\n",
       "  <tbody>\n",
       "    <tr>\n",
       "      <th>0</th>\n",
       "      <td>1970</td>\n",
       "      <td>30.00</td>\n",
       "    </tr>\n",
       "    <tr>\n",
       "      <th>1</th>\n",
       "      <td>1971</td>\n",
       "      <td>33.00</td>\n",
       "    </tr>\n",
       "    <tr>\n",
       "      <th>2</th>\n",
       "      <td>1972</td>\n",
       "      <td>22.25</td>\n",
       "    </tr>\n",
       "    <tr>\n",
       "      <th>3</th>\n",
       "      <td>1973</td>\n",
       "      <td>33.00</td>\n",
       "    </tr>\n",
       "    <tr>\n",
       "      <th>4</th>\n",
       "      <td>1974</td>\n",
       "      <td>45.00</td>\n",
       "    </tr>\n",
       "  </tbody>\n",
       "</table>\n",
       "</div>"
      ],
      "text/plain": [
       "0.25  year  num_parts\n",
       "0     1970      30.00\n",
       "1     1971      33.00\n",
       "2     1972      22.25\n",
       "3     1973      33.00\n",
       "4     1974      45.00"
      ]
     },
     "execution_count": 22,
     "metadata": {},
     "output_type": "execute_result"
    }
   ],
   "source": [
    "df0.head()"
   ]
  },
  {
   "cell_type": "code",
   "execution_count": 25,
   "metadata": {},
   "outputs": [
    {
     "name": "stderr",
     "output_type": "stream",
     "text": [
      "D:\\conda\\lib\\site-packages\\IPython\\core\\display.py:689: UserWarning:\n",
      "\n",
      "Consider using IPython.display.IFrame instead\n",
      "\n"
     ]
    },
    {
     "data": {
      "text/html": [
       "<iframe id=\"igraph\" scrolling=\"no\" style=\"border:none;\" seamless=\"seamless\" src=\"https://plot.ly/~twinklenoisland/16.embed\" height=\"525px\" width=\"100%\"></iframe>"
      ],
      "text/plain": [
       "<chart_studio.tools.PlotlyDisplay object>"
      ]
     },
     "execution_count": 25,
     "metadata": {},
     "output_type": "execute_result"
    }
   ],
   "source": [
    "trace3 = Scatter(x = df0[\"year\"],y=df0[\"num_parts\"],\n",
    "                    fill= 'tonexty',\n",
    "                    fillcolor='#de2d26',\n",
    "                    mode='lines',\n",
    "                    line=dict(color='#c91a09'),\n",
    "                   name='25th quantile')\n",
    "trace2 = Scatter(x = df1[\"year\"],y=df1[\"num_parts\"],\n",
    "                    fill= 'tonexty',\n",
    "                    fillcolor='#fb6a4a',\n",
    "                    mode='lines',\n",
    "                    line=dict(color='#c91a09'),\n",
    "                   name = '50th quantile')\n",
    "trace1 = Scatter(x = df2[\"year\"],y=df2[\"num_parts\"],\n",
    "                    fill= 'tonexty',\n",
    "                    fillcolor='#fcae91',\n",
    "                    mode='lines',\n",
    "                    line=dict(color='#c91a09'),\n",
    "                   name = '75th quantile')\n",
    "trace0 = Scatter(x = df3[\"year\"],y=df3[\"num_parts\"],\n",
    "                    fill= 'tonexty',\n",
    "                    fillcolor='#fee5d9',\n",
    "                    mode='lines',\n",
    "                    line=dict(color='#c91a09'),\n",
    "                   name = '95th quantile')\n",
    "\n",
    "# edit layout\n",
    "layout = dict(title = \"Parts released in quantile\",\n",
    "              xaxis = dict(title = 'Year'),\n",
    "              yaxis = dict(title = 'Parts number'),\n",
    "              font = dict(family = 'Arial'))\n",
    "\n",
    "# compile traces\n",
    "data = [trace3,trace2,trace1,trace0]\n",
    "fig = dict(data=data, layout=layout)\n",
    "py.iplot(fig,filename='plot3')"
   ]
  },
  {
   "cell_type": "markdown",
   "metadata": {},
   "source": [
    "### color by decades"
   ]
  },
  {
   "cell_type": "code",
   "execution_count": 27,
   "metadata": {},
   "outputs": [
    {
     "data": {
      "text/html": [
       "<div>\n",
       "<style scoped>\n",
       "    .dataframe tbody tr th:only-of-type {\n",
       "        vertical-align: middle;\n",
       "    }\n",
       "\n",
       "    .dataframe tbody tr th {\n",
       "        vertical-align: top;\n",
       "    }\n",
       "\n",
       "    .dataframe thead th {\n",
       "        text-align: right;\n",
       "    }\n",
       "</style>\n",
       "<table border=\"1\" class=\"dataframe\">\n",
       "  <thead>\n",
       "    <tr style=\"text-align: right;\">\n",
       "      <th></th>\n",
       "      <th>inventory_id</th>\n",
       "      <th>part_num</th>\n",
       "      <th>color_id</th>\n",
       "      <th>quantity</th>\n",
       "      <th>is_spare</th>\n",
       "      <th>color_name</th>\n",
       "      <th>rgb</th>\n",
       "      <th>is_trans</th>\n",
       "      <th>set_num</th>\n",
       "      <th>set_name</th>\n",
       "      <th>year</th>\n",
       "      <th>theme_id</th>\n",
       "      <th>num_parts</th>\n",
       "      <th>price_adjust</th>\n",
       "      <th>pcs_num</th>\n",
       "      <th>price_per_pcs</th>\n",
       "      <th>theme_name</th>\n",
       "      <th>parent_theme</th>\n",
       "    </tr>\n",
       "  </thead>\n",
       "  <tbody>\n",
       "    <tr>\n",
       "      <th>0</th>\n",
       "      <td>1</td>\n",
       "      <td>48379c01</td>\n",
       "      <td>72</td>\n",
       "      <td>1</td>\n",
       "      <td>f</td>\n",
       "      <td>Dark Bluish Gray</td>\n",
       "      <td>6C6E68</td>\n",
       "      <td>f</td>\n",
       "      <td>\"7922\"</td>\n",
       "      <td>McDonald's Sports Set Number 6 - Orange Vest S...</td>\n",
       "      <td>2004</td>\n",
       "      <td>460</td>\n",
       "      <td>4</td>\n",
       "      <td>NaN</td>\n",
       "      <td>NaN</td>\n",
       "      <td>NaN</td>\n",
       "      <td>Gravity Games</td>\n",
       "      <td>Sports</td>\n",
       "    </tr>\n",
       "    <tr>\n",
       "      <th>1</th>\n",
       "      <td>1</td>\n",
       "      <td>48395</td>\n",
       "      <td>7</td>\n",
       "      <td>1</td>\n",
       "      <td>f</td>\n",
       "      <td>Light Gray</td>\n",
       "      <td>9BA19D</td>\n",
       "      <td>f</td>\n",
       "      <td>\"7922\"</td>\n",
       "      <td>McDonald's Sports Set Number 6 - Orange Vest S...</td>\n",
       "      <td>2004</td>\n",
       "      <td>460</td>\n",
       "      <td>4</td>\n",
       "      <td>NaN</td>\n",
       "      <td>NaN</td>\n",
       "      <td>NaN</td>\n",
       "      <td>Gravity Games</td>\n",
       "      <td>Sports</td>\n",
       "    </tr>\n",
       "    <tr>\n",
       "      <th>2</th>\n",
       "      <td>1</td>\n",
       "      <td>mcsport6</td>\n",
       "      <td>25</td>\n",
       "      <td>1</td>\n",
       "      <td>f</td>\n",
       "      <td>Orange</td>\n",
       "      <td>FE8A18</td>\n",
       "      <td>f</td>\n",
       "      <td>\"7922\"</td>\n",
       "      <td>McDonald's Sports Set Number 6 - Orange Vest S...</td>\n",
       "      <td>2004</td>\n",
       "      <td>460</td>\n",
       "      <td>4</td>\n",
       "      <td>NaN</td>\n",
       "      <td>NaN</td>\n",
       "      <td>NaN</td>\n",
       "      <td>Gravity Games</td>\n",
       "      <td>Sports</td>\n",
       "    </tr>\n",
       "    <tr>\n",
       "      <th>3</th>\n",
       "      <td>1</td>\n",
       "      <td>paddle</td>\n",
       "      <td>0</td>\n",
       "      <td>1</td>\n",
       "      <td>f</td>\n",
       "      <td>Black</td>\n",
       "      <td>05131D</td>\n",
       "      <td>f</td>\n",
       "      <td>\"7922\"</td>\n",
       "      <td>McDonald's Sports Set Number 6 - Orange Vest S...</td>\n",
       "      <td>2004</td>\n",
       "      <td>460</td>\n",
       "      <td>4</td>\n",
       "      <td>NaN</td>\n",
       "      <td>NaN</td>\n",
       "      <td>NaN</td>\n",
       "      <td>Gravity Games</td>\n",
       "      <td>Sports</td>\n",
       "    </tr>\n",
       "    <tr>\n",
       "      <th>4</th>\n",
       "      <td>3</td>\n",
       "      <td>11816pr0005</td>\n",
       "      <td>78</td>\n",
       "      <td>1</td>\n",
       "      <td>f</td>\n",
       "      <td>Light Flesh</td>\n",
       "      <td>F6D7B3</td>\n",
       "      <td>f</td>\n",
       "      <td>\"3931\"</td>\n",
       "      <td>Emma's Splash Pool</td>\n",
       "      <td>2012</td>\n",
       "      <td>494</td>\n",
       "      <td>43</td>\n",
       "      <td>6.63</td>\n",
       "      <td>43.0</td>\n",
       "      <td>0.15</td>\n",
       "      <td>Friends</td>\n",
       "      <td>Friends</td>\n",
       "    </tr>\n",
       "  </tbody>\n",
       "</table>\n",
       "</div>"
      ],
      "text/plain": [
       "   inventory_id     part_num  color_id  quantity is_spare        color_name  \\\n",
       "0             1     48379c01        72         1        f  Dark Bluish Gray   \n",
       "1             1        48395         7         1        f        Light Gray   \n",
       "2             1     mcsport6        25         1        f            Orange   \n",
       "3             1       paddle         0         1        f             Black   \n",
       "4             3  11816pr0005        78         1        f       Light Flesh   \n",
       "\n",
       "      rgb is_trans set_num                                           set_name  \\\n",
       "0  6C6E68        f  \"7922\"  McDonald's Sports Set Number 6 - Orange Vest S...   \n",
       "1  9BA19D        f  \"7922\"  McDonald's Sports Set Number 6 - Orange Vest S...   \n",
       "2  FE8A18        f  \"7922\"  McDonald's Sports Set Number 6 - Orange Vest S...   \n",
       "3  05131D        f  \"7922\"  McDonald's Sports Set Number 6 - Orange Vest S...   \n",
       "4  F6D7B3        f  \"3931\"                                 Emma's Splash Pool   \n",
       "\n",
       "   year  theme_id  num_parts  price_adjust  pcs_num  price_per_pcs  \\\n",
       "0  2004       460          4           NaN      NaN            NaN   \n",
       "1  2004       460          4           NaN      NaN            NaN   \n",
       "2  2004       460          4           NaN      NaN            NaN   \n",
       "3  2004       460          4           NaN      NaN            NaN   \n",
       "4  2012       494         43          6.63     43.0           0.15   \n",
       "\n",
       "      theme_name parent_theme  \n",
       "0  Gravity Games       Sports  \n",
       "1  Gravity Games       Sports  \n",
       "2  Gravity Games       Sports  \n",
       "3  Gravity Games       Sports  \n",
       "4        Friends      Friends  "
      ]
     },
     "execution_count": 27,
     "metadata": {},
     "output_type": "execute_result"
    }
   ],
   "source": [
    "inv = pd.read_csv(\"inv_all.csv\")\n",
    "inv.head()"
   ]
  },
  {
   "cell_type": "code",
   "execution_count": 28,
   "metadata": {},
   "outputs": [],
   "source": [
    "color_y = inv.groupby([\"year\",\"color_name\",\"rgb\"],as_index=False).agg({\"quantity\":\"count\"})"
   ]
  },
  {
   "cell_type": "code",
   "execution_count": 29,
   "metadata": {},
   "outputs": [],
   "source": [
    "color_y[\"decade\"] = color_y[\"year\"].apply(decade)"
   ]
  },
  {
   "cell_type": "code",
   "execution_count": 30,
   "metadata": {},
   "outputs": [
    {
     "data": {
      "text/html": [
       "<div>\n",
       "<style scoped>\n",
       "    .dataframe tbody tr th:only-of-type {\n",
       "        vertical-align: middle;\n",
       "    }\n",
       "\n",
       "    .dataframe tbody tr th {\n",
       "        vertical-align: top;\n",
       "    }\n",
       "\n",
       "    .dataframe thead th {\n",
       "        text-align: right;\n",
       "    }\n",
       "</style>\n",
       "<table border=\"1\" class=\"dataframe\">\n",
       "  <thead>\n",
       "    <tr style=\"text-align: right;\">\n",
       "      <th></th>\n",
       "      <th>year</th>\n",
       "      <th>color_name</th>\n",
       "      <th>rgb</th>\n",
       "      <th>quantity</th>\n",
       "      <th>decade</th>\n",
       "    </tr>\n",
       "  </thead>\n",
       "  <tbody>\n",
       "    <tr>\n",
       "      <th>0</th>\n",
       "      <td>1949</td>\n",
       "      <td>Blue</td>\n",
       "      <td>0055BF</td>\n",
       "      <td>16</td>\n",
       "      <td>1940s</td>\n",
       "    </tr>\n",
       "    <tr>\n",
       "      <th>1</th>\n",
       "      <td>1949</td>\n",
       "      <td>Bright Green</td>\n",
       "      <td>4B9F4A</td>\n",
       "      <td>1</td>\n",
       "      <td>1940s</td>\n",
       "    </tr>\n",
       "    <tr>\n",
       "      <th>2</th>\n",
       "      <td>1949</td>\n",
       "      <td>Green</td>\n",
       "      <td>237841</td>\n",
       "      <td>32</td>\n",
       "      <td>1940s</td>\n",
       "    </tr>\n",
       "    <tr>\n",
       "      <th>3</th>\n",
       "      <td>1949</td>\n",
       "      <td>Red</td>\n",
       "      <td>C91A09</td>\n",
       "      <td>35</td>\n",
       "      <td>1940s</td>\n",
       "    </tr>\n",
       "    <tr>\n",
       "      <th>4</th>\n",
       "      <td>1949</td>\n",
       "      <td>Vintage Blue</td>\n",
       "      <td>039CBD</td>\n",
       "      <td>4</td>\n",
       "      <td>1940s</td>\n",
       "    </tr>\n",
       "  </tbody>\n",
       "</table>\n",
       "</div>"
      ],
      "text/plain": [
       "   year    color_name     rgb  quantity decade\n",
       "0  1949          Blue  0055BF        16  1940s\n",
       "1  1949  Bright Green  4B9F4A         1  1940s\n",
       "2  1949         Green  237841        32  1940s\n",
       "3  1949           Red  C91A09        35  1940s\n",
       "4  1949  Vintage Blue  039CBD         4  1940s"
      ]
     },
     "execution_count": 30,
     "metadata": {},
     "output_type": "execute_result"
    }
   ],
   "source": [
    "color_y.head()"
   ]
  },
  {
   "cell_type": "code",
   "execution_count": 31,
   "metadata": {},
   "outputs": [
    {
     "data": {
      "text/html": [
       "<div>\n",
       "<style scoped>\n",
       "    .dataframe tbody tr th:only-of-type {\n",
       "        vertical-align: middle;\n",
       "    }\n",
       "\n",
       "    .dataframe tbody tr th {\n",
       "        vertical-align: top;\n",
       "    }\n",
       "\n",
       "    .dataframe thead th {\n",
       "        text-align: right;\n",
       "    }\n",
       "</style>\n",
       "<table border=\"1\" class=\"dataframe\">\n",
       "  <thead>\n",
       "    <tr style=\"text-align: right;\">\n",
       "      <th></th>\n",
       "      <th>decade</th>\n",
       "      <th>rgb</th>\n",
       "      <th>color_name</th>\n",
       "      <th>quantity</th>\n",
       "    </tr>\n",
       "  </thead>\n",
       "  <tbody>\n",
       "    <tr>\n",
       "      <th>0</th>\n",
       "      <td>1940s</td>\n",
       "      <td>0055BF</td>\n",
       "      <td>Blue</td>\n",
       "      <td>9.356725</td>\n",
       "    </tr>\n",
       "    <tr>\n",
       "      <th>1</th>\n",
       "      <td>1940s</td>\n",
       "      <td>039CBD</td>\n",
       "      <td>Vintage Blue</td>\n",
       "      <td>2.339181</td>\n",
       "    </tr>\n",
       "    <tr>\n",
       "      <th>2</th>\n",
       "      <td>1940s</td>\n",
       "      <td>1E601E</td>\n",
       "      <td>Vintage Green</td>\n",
       "      <td>4.678363</td>\n",
       "    </tr>\n",
       "    <tr>\n",
       "      <th>3</th>\n",
       "      <td>1940s</td>\n",
       "      <td>237841</td>\n",
       "      <td>Green</td>\n",
       "      <td>18.713450</td>\n",
       "    </tr>\n",
       "    <tr>\n",
       "      <th>4</th>\n",
       "      <td>1940s</td>\n",
       "      <td>4B9F4A</td>\n",
       "      <td>Bright Green</td>\n",
       "      <td>0.584795</td>\n",
       "    </tr>\n",
       "  </tbody>\n",
       "</table>\n",
       "</div>"
      ],
      "text/plain": [
       "  decade     rgb     color_name   quantity\n",
       "0  1940s  0055BF           Blue   9.356725\n",
       "1  1940s  039CBD   Vintage Blue   2.339181\n",
       "2  1940s  1E601E  Vintage Green   4.678363\n",
       "3  1940s  237841          Green  18.713450\n",
       "4  1940s  4B9F4A   Bright Green   0.584795"
      ]
     },
     "execution_count": 31,
     "metadata": {},
     "output_type": "execute_result"
    }
   ],
   "source": [
    "color_d = color_y.groupby([\"decade\",\"rgb\",\"color_name\"]).agg({\"quantity\":\"sum\"})\n",
    "color_d2 = color_d.groupby(level=0).apply(lambda x: 100 * x / float(x.sum()))\n",
    "color_d2 = color_d2.reset_index()\n",
    "color_d2.head()"
   ]
  },
  {
   "cell_type": "code",
   "execution_count": 32,
   "metadata": {},
   "outputs": [
    {
     "data": {
      "text/html": [
       "<div>\n",
       "<style scoped>\n",
       "    .dataframe tbody tr th:only-of-type {\n",
       "        vertical-align: middle;\n",
       "    }\n",
       "\n",
       "    .dataframe tbody tr th {\n",
       "        vertical-align: top;\n",
       "    }\n",
       "\n",
       "    .dataframe thead th {\n",
       "        text-align: right;\n",
       "    }\n",
       "</style>\n",
       "<table border=\"1\" class=\"dataframe\">\n",
       "  <thead>\n",
       "    <tr style=\"text-align: right;\">\n",
       "      <th></th>\n",
       "      <th>decade</th>\n",
       "      <th>rgb</th>\n",
       "      <th>color_name</th>\n",
       "      <th>quantity</th>\n",
       "    </tr>\n",
       "  </thead>\n",
       "  <tbody>\n",
       "    <tr>\n",
       "      <th>0</th>\n",
       "      <td>1940s</td>\n",
       "      <td>0055BF</td>\n",
       "      <td>Blue</td>\n",
       "      <td>9.356725</td>\n",
       "    </tr>\n",
       "    <tr>\n",
       "      <th>11</th>\n",
       "      <td>1950s</td>\n",
       "      <td>0055BF</td>\n",
       "      <td>Blue</td>\n",
       "      <td>12.680578</td>\n",
       "    </tr>\n",
       "    <tr>\n",
       "      <th>35</th>\n",
       "      <td>1960s</td>\n",
       "      <td>0055BF</td>\n",
       "      <td>Blue</td>\n",
       "      <td>15.110765</td>\n",
       "    </tr>\n",
       "    <tr>\n",
       "      <th>57</th>\n",
       "      <td>1970s</td>\n",
       "      <td>0055BF</td>\n",
       "      <td>Blue</td>\n",
       "      <td>13.858658</td>\n",
       "    </tr>\n",
       "    <tr>\n",
       "      <th>87</th>\n",
       "      <td>1980s</td>\n",
       "      <td>0055BF</td>\n",
       "      <td>Blue</td>\n",
       "      <td>11.092327</td>\n",
       "    </tr>\n",
       "    <tr>\n",
       "      <th>136</th>\n",
       "      <td>1990s</td>\n",
       "      <td>0055BF</td>\n",
       "      <td>Blue</td>\n",
       "      <td>7.761359</td>\n",
       "    </tr>\n",
       "    <tr>\n",
       "      <th>216</th>\n",
       "      <td>2000s</td>\n",
       "      <td>0055BF</td>\n",
       "      <td>Blue</td>\n",
       "      <td>4.568045</td>\n",
       "    </tr>\n",
       "    <tr>\n",
       "      <th>339</th>\n",
       "      <td>2010s</td>\n",
       "      <td>0055BF</td>\n",
       "      <td>Blue</td>\n",
       "      <td>1.871413</td>\n",
       "    </tr>\n",
       "  </tbody>\n",
       "</table>\n",
       "</div>"
      ],
      "text/plain": [
       "    decade     rgb color_name   quantity\n",
       "0    1940s  0055BF       Blue   9.356725\n",
       "11   1950s  0055BF       Blue  12.680578\n",
       "35   1960s  0055BF       Blue  15.110765\n",
       "57   1970s  0055BF       Blue  13.858658\n",
       "87   1980s  0055BF       Blue  11.092327\n",
       "136  1990s  0055BF       Blue   7.761359\n",
       "216  2000s  0055BF       Blue   4.568045\n",
       "339  2010s  0055BF       Blue   1.871413"
      ]
     },
     "execution_count": 32,
     "metadata": {},
     "output_type": "execute_result"
    }
   ],
   "source": [
    "color_d2[color_d2.rgb == \"0055BF\"]"
   ]
  },
  {
   "cell_type": "code",
   "execution_count": 34,
   "metadata": {},
   "outputs": [
    {
     "name": "stderr",
     "output_type": "stream",
     "text": [
      "D:\\conda\\lib\\site-packages\\IPython\\core\\display.py:689: UserWarning:\n",
      "\n",
      "Consider using IPython.display.IFrame instead\n",
      "\n"
     ]
    },
    {
     "data": {
      "text/html": [
       "<iframe id=\"igraph\" scrolling=\"no\" style=\"border:none;\" seamless=\"seamless\" src=\"https://plot.ly/~twinklenoisland/18.embed\" height=\"525px\" width=\"100%\"></iframe>"
      ],
      "text/plain": [
       "<chart_studio.tools.PlotlyDisplay object>"
      ]
     },
     "execution_count": 34,
     "metadata": {},
     "output_type": "execute_result"
    }
   ],
   "source": [
    "# generate 128 traces for each color\n",
    "c = color_d2.rgb.unique() # color list\n",
    "def trace(color):\n",
    "    df = color_d2[color_d2.rgb == color]\n",
    "    trace = Bar(\n",
    "        x = df[\"decade\"],\n",
    "        y = df[\"quantity\"],\n",
    "        marker = dict(color='#'+color\n",
    "                ),\n",
    "        name = df[\"color_name\"].unique()[0])\n",
    "    return trace\n",
    "\n",
    "data = [trace(color) for color in c]\n",
    "layout = Layout(\n",
    "    title = \"Color composition changes in decades\",\n",
    "    barmode='stack',\n",
    "    xaxis = dict(title = 'Decade'),\n",
    "    yaxis = dict(title = 'Color composition'),\n",
    "    font = dict(family = 'Arial'),\n",
    "    plot_bgcolor = '#e6e6e6'\n",
    ")\n",
    "\n",
    "# compile traces\n",
    "fig = dict(data=data, layout=layout)\n",
    "py.iplot(fig,filename='plot4')"
   ]
  },
  {
   "cell_type": "markdown",
   "metadata": {},
   "source": [
    "### top 5 colors in each theme"
   ]
  },
  {
   "cell_type": "code",
   "execution_count": 145,
   "metadata": {},
   "outputs": [],
   "source": [
    "# City, Duplo, Friends, Disney, Classic, Creator, Ninjago, Stranger Things, Avatar, Harry Potter\n",
    "color_thm = inv.groupby([\"parent_theme\",\"color_name\",\"rgb\"],as_index=False).agg({\"quantity\":\"count\"})"
   ]
  },
  {
   "cell_type": "code",
   "execution_count": 153,
   "metadata": {},
   "outputs": [],
   "source": [
    "def top5color(theme):\n",
    "    df = color_thm[color_thm.parent_theme == theme].sort_values(by='quantity', ascending = False)\n",
    "    df.rgb = df.rgb.apply(lambda i : \"#\"+i)\n",
    "    return df.iloc[:5,1:3]"
   ]
  },
  {
   "cell_type": "code",
   "execution_count": 154,
   "metadata": {},
   "outputs": [
    {
     "data": {
      "text/html": [
       "<div>\n",
       "<style scoped>\n",
       "    .dataframe tbody tr th:only-of-type {\n",
       "        vertical-align: middle;\n",
       "    }\n",
       "\n",
       "    .dataframe tbody tr th {\n",
       "        vertical-align: top;\n",
       "    }\n",
       "\n",
       "    .dataframe thead th {\n",
       "        text-align: right;\n",
       "    }\n",
       "</style>\n",
       "<table border=\"1\" class=\"dataframe\">\n",
       "  <thead>\n",
       "    <tr style=\"text-align: right;\">\n",
       "      <th></th>\n",
       "      <th>color_name</th>\n",
       "      <th>rgb</th>\n",
       "    </tr>\n",
       "  </thead>\n",
       "  <tbody>\n",
       "    <tr>\n",
       "      <th>1023</th>\n",
       "      <td>Black</td>\n",
       "      <td>#05131D</td>\n",
       "    </tr>\n",
       "    <tr>\n",
       "      <th>1082</th>\n",
       "      <td>White</td>\n",
       "      <td>#FFFFFF</td>\n",
       "    </tr>\n",
       "    <tr>\n",
       "      <th>1049</th>\n",
       "      <td>Light Bluish Gray</td>\n",
       "      <td>#A0A5A9</td>\n",
       "    </tr>\n",
       "    <tr>\n",
       "      <th>1034</th>\n",
       "      <td>Dark Bluish Gray</td>\n",
       "      <td>#6C6E68</td>\n",
       "    </tr>\n",
       "    <tr>\n",
       "      <th>1083</th>\n",
       "      <td>Yellow</td>\n",
       "      <td>#F2CD37</td>\n",
       "    </tr>\n",
       "  </tbody>\n",
       "</table>\n",
       "</div>"
      ],
      "text/plain": [
       "             color_name      rgb\n",
       "1023              Black  #05131D\n",
       "1082              White  #FFFFFF\n",
       "1049  Light Bluish Gray  #A0A5A9\n",
       "1034   Dark Bluish Gray  #6C6E68\n",
       "1083             Yellow  #F2CD37"
      ]
     },
     "execution_count": 154,
     "metadata": {},
     "output_type": "execute_result"
    }
   ],
   "source": [
    "top5color(\"City\")"
   ]
  },
  {
   "cell_type": "code",
   "execution_count": 155,
   "metadata": {},
   "outputs": [
    {
     "data": {
      "image/png": "[encoded data removed]",
      "text/plain": [
       "<Figure size 360x72 with 1 Axes>"
      ]
     },
     "metadata": {
      "needs_background": "light"
     },
     "output_type": "display_data"
    }
   ],
   "source": [
    "sns.palplot(list(top5color(\"City\")[\"rgb\"]))"
   ]
  },
  {
   "cell_type": "code",
   "execution_count": 156,
   "metadata": {},
   "outputs": [
    {
     "data": {
      "image/png": "[encoded data removed]",
      "text/plain": [
       "<Figure size 360x72 with 1 Axes>"
      ]
     },
     "metadata": {
      "needs_background": "light"
     },
     "output_type": "display_data"
    }
   ],
   "source": [
    "sns.palplot(list(top5color(\"Duplo\")[\"rgb\"]))"
   ]
  },
  {
   "cell_type": "code",
   "execution_count": 159,
   "metadata": {},
   "outputs": [
    {
     "data": {
      "image/png": "[encoded data removed]",
      "text/plain": [
       "<Figure size 360x72 with 1 Axes>"
      ]
     },
     "metadata": {
      "needs_background": "light"
     },
     "output_type": "display_data"
    }
   ],
   "source": [
    "sns.palplot(list(top5color(\"Classic\")[\"rgb\"]))"
   ]
  },
  {
   "cell_type": "code",
   "execution_count": 161,
   "metadata": {},
   "outputs": [
    {
     "data": {
      "image/png": "[encoded data removed]",
      "text/plain": [
       "<Figure size 360x72 with 1 Axes>"
      ]
     },
     "metadata": {
      "needs_background": "light"
     },
     "output_type": "display_data"
    }
   ],
   "source": [
    "sns.palplot(list(top5color(\"Ninjago\")[\"rgb\"]))"
   ]
  },
  {
   "cell_type": "code",
   "execution_count": 162,
   "metadata": {},
   "outputs": [
    {
     "data": {
      "image/png": "[encoded data removed]",
      "text/plain": [
       "<Figure size 360x72 with 1 Axes>"
      ]
     },
     "metadata": {
      "needs_background": "light"
     },
     "output_type": "display_data"
    }
   ],
   "source": [
    "sns.palplot(list(top5color(\"Stranger Things\")[\"rgb\"]))"
   ]
  },
  {
   "cell_type": "code",
   "execution_count": 164,
   "metadata": {},
   "outputs": [
    {
     "data": {
      "image/png": "[encoded data removed]",
      "text/plain": [
       "<Figure size 360x72 with 1 Axes>"
      ]
     },
     "metadata": {
      "needs_background": "light"
     },
     "output_type": "display_data"
    }
   ],
   "source": [
    "sns.palplot(list(top5color(\"Harry Potter\")[\"rgb\"]))"
   ]
  },
  {
   "cell_type": "markdown",
   "metadata": {},
   "source": [
    "### Similarity of sets"
   ]
  },
  {
   "cell_type": "code",
   "execution_count": null,
   "metadata": {},
   "outputs": [],
   "source": []
  }
 ],
 "metadata": {
  "kernelspec": {
   "display_name": "Python 3",
   "language": "python",
   "name": "python3"
  },
  "language_info": {
   "codemirror_mode": {
    "name": "ipython",
    "version": 3
   },
   "file_extension": ".py",
   "mimetype": "text/x-python",
   "name": "python",
   "nbconvert_exporter": "python",
   "pygments_lexer": "ipython3",
   "version": "3.7.3"
  },
  "toc": {
   "base_numbering": 1,
   "nav_menu": {},
   "number_sections": true,
   "sideBar": true,
   "skip_h1_title": false,
   "title_cell": "Table of Contents",
   "title_sidebar": "Contents",
   "toc_cell": false,
   "toc_position": {
    "height": "calc(100% - 180px)",
    "left": "10px",
    "top": "150px",
    "width": "165px"
   },
   "toc_section_display": true,
   "toc_window_display": true
  }
 },
 "nbformat": 4,
 "nbformat_minor": 2
}
